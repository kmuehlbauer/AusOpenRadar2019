{
 "cells": [
  {
   "cell_type": "markdown",
   "metadata": {},
   "source": [
    "This notebook is part of *The 2019 Australian Open Radar Science Course*.\n",
    "\n",
    "Copyright (c) Kai Muehlbauer.\n",
    "\n",
    "Distributed under the BSD 2-Clause \"Simplified\" License. See LICENSE for more info."
   ]
  },
  {
   "cell_type": "markdown",
   "metadata": {},
   "source": [
    "# A Taste of wradlib"
   ]
  },
  {
   "cell_type": "markdown",
   "metadata": {},
   "source": [
    "As you already know, $\\omega radlib$ is a rather low level library. In this notebook some of the features are shown, which should give you an first impression on how to use $\\omega radlib$. \n",
    "\n",
    "For a more in-depth look into the capabilities of wradlib, please use the notebooks provided in the [VM](https://openradarscience.org/vm-docs/). You also might just start at [wradlib.org](https://wradlib.org/)."
   ]
  },
  {
   "cell_type": "markdown",
   "metadata": {},
   "source": [
    "## Install TQDM inside current Jupyter kernel\n",
    "\n",
    "Only for use inside the ORVM  where tqdm is not available. Uncomment the two lines in the next cell and run it. This will install `tqdm` in your current Jupyter kernel. "
   ]
  },
  {
   "cell_type": "code",
   "execution_count": null,
   "metadata": {},
   "outputs": [],
   "source": [
    "#import sys\n",
    "#!conda install --yes --prefix {sys.prefix} tqdm"
   ]
  },
  {
   "cell_type": "markdown",
   "metadata": {},
   "source": [
    "## Import needed python packages"
   ]
  },
  {
   "cell_type": "code",
   "execution_count": null,
   "metadata": {},
   "outputs": [],
   "source": [
    "import wradlib as wrl\n",
    "import warnings\n",
    "warnings.filterwarnings('ignore')\n",
    "import matplotlib.pyplot as pl\n",
    "import numpy as np\n",
    "import xarray as xr\n",
    "import glob\n",
    "import os\n",
    "try:\n",
    "    from tqdm import tqdm_notebook as tqdm\n",
    "except ImportError:\n",
    "    def tqdm(val, **kwargs):\n",
    "        print(\"wradlib: Please wait for completion of time consuming task! \\n\"\n",
    "              \"wradlib: Please install 'tqdm' for showing a progress bar \"\n",
    "              \"instead.\")\n",
    "        return val\n",
    "#from tqdm import tqdm_notebook as tqdm\n",
    "try:\n",
    "    get_ipython().magic(\"matplotlib inline\")\n",
    "except:\n",
    "    pl.ion()"
   ]
  },
  {
   "cell_type": "markdown",
   "metadata": {},
   "source": [
    "## Get hold of some  some Australien Radar Data\n",
    "\n",
    "The `filepath` and the `filename` below have to be set to the correct folder and the correct naming scheme. It is assumed, that data from IDR71 (Sidney) from 20th of December 2018 is used in this notebook."
   ]
  },
  {
   "cell_type": "code",
   "execution_count": null,
   "metadata": {},
   "outputs": [],
   "source": [
    "filepath = os.path.expanduser('~/data/aus/terryhills')\n",
    "print(filepath)\n",
    "filename = '71_*.pvol.h5'\n",
    "idr71 = glob.glob(os.path.join(filepath, filename))\n",
    "idr71.sort()\n",
    "print(\"Files available: {}\".format(len(idr71)))"
   ]
  },
  {
   "cell_type": "markdown",
   "metadata": {},
   "source": [
    "# Claim one volume file\n",
    "\n",
    "This reads one ODIM_H5 volume file into an xarray backed data structure. Place the cursor inside the `OdimH5` parantheses and press `SHIFT-TAB` to inspect the function parameters. Or just have a look [here](https://docs.wradlib.org/en/stable/generated/wradlib.io.xarray.OdimH5.html).\n",
    "\n",
    "`dim0=azimuth` means that the first dimension of the dataset will be `azimuth` instead of the CfRadial standard `time`. This has some advantages with ODIM_H5 because the data is azimuth-aligned (0-360 deg in most cases).\n",
    "\n",
    "Set the index (now 11, counting from the whole day of 240 files) to a reasonable value.\n",
    "\n",
    "You can try to use keyword `chunks={}`, to read the data into dask chunks if `dask` is available. Especially interesting for the TimeSeries example."
   ]
  },
  {
   "cell_type": "code",
   "execution_count": null,
   "metadata": {},
   "outputs": [],
   "source": [
    "odh = wrl.io.OdimH5(idr71[11], dim0='azimuth')#, chunks={})"
   ]
  },
  {
   "cell_type": "markdown",
   "metadata": {},
   "source": [
    "## Inspect the data"
   ]
  },
  {
   "cell_type": "markdown",
   "metadata": {},
   "source": [
    "### CfRadial-like root-object\n",
    "\n",
    "The `odh` object contains an overview of the contained data in the `root` variable. This is strongly connected to CfRadial standard."
   ]
  },
  {
   "cell_type": "code",
   "execution_count": null,
   "metadata": {},
   "outputs": [],
   "source": [
    "odh.root"
   ]
  },
  {
   "cell_type": "markdown",
   "metadata": {},
   "source": [
    "## Looking at the sweeps"
   ]
  },
  {
   "cell_type": "markdown",
   "metadata": {},
   "source": [
    "### Sweep groups"
   ]
  },
  {
   "cell_type": "code",
   "execution_count": null,
   "metadata": {},
   "outputs": [],
   "source": [
    "list(odh)"
   ]
  },
  {
   "cell_type": "markdown",
   "metadata": {},
   "source": [
    "### Sweep angles"
   ]
  },
  {
   "cell_type": "code",
   "execution_count": null,
   "metadata": {},
   "outputs": [],
   "source": [
    "odh.root.sweep_fixed_angle"
   ]
  },
  {
   "cell_type": "markdown",
   "metadata": {},
   "source": [
    "### Inspect one sweep\n",
    "\n",
    "All relevant and needed dimensions and coordinates as well as the radar moments itself are combined into one xarray Dataset. You can also play with the other sweeps by subsetting `odh` accordingly.\n",
    "\n",
    "All Xarray features (selecting, indexing, ufuncs etc) can be used with the sweep datasets. "
   ]
  },
  {
   "cell_type": "code",
   "execution_count": null,
   "metadata": {},
   "outputs": [],
   "source": [
    "swp1 = odh['sweep_1'] \n",
    "swp1"
   ]
  },
  {
   "cell_type": "markdown",
   "metadata": {},
   "source": [
    "### Inspect one moment\n",
    "\n",
    "Same here, all Xarray features can be used with the DataArray."
   ]
  },
  {
   "cell_type": "code",
   "execution_count": null,
   "metadata": {},
   "outputs": [],
   "source": [
    "swp1.DBZH"
   ]
  },
  {
   "cell_type": "markdown",
   "metadata": {},
   "source": [
    "### Simple Plots using Xarray machinery"
   ]
  },
  {
   "cell_type": "code",
   "execution_count": null,
   "metadata": {},
   "outputs": [],
   "source": [
    "odh['sweep_1'].DBZH.plot()"
   ]
  },
  {
   "cell_type": "code",
   "execution_count": null,
   "metadata": {},
   "outputs": [],
   "source": [
    "odh['sweep_1'].DBZH.sortby('time').plot(y='time')"
   ]
  },
  {
   "cell_type": "markdown",
   "metadata": {},
   "source": [
    "## Georeferencing sweeps\n",
    "\n",
    "`xyz`-Coordinates of all radar bins are added to the Dataset in Azimthal Equidistant Projection with the radar as center. Also `gr` (ground range), `rays` and `bins` are added for nicer plotting."
   ]
  },
  {
   "cell_type": "code",
   "execution_count": null,
   "metadata": {},
   "outputs": [],
   "source": [
    "swp1 = swp1.pipe(wrl.georef.georeference_dataset)\n",
    "swp1"
   ]
  },
  {
   "cell_type": "markdown",
   "metadata": {},
   "source": [
    "### Simple georeferenced plot"
   ]
  },
  {
   "cell_type": "code",
   "execution_count": null,
   "metadata": {},
   "outputs": [],
   "source": [
    "fig = pl.figure(figsize=(10,8))\n",
    "swp1.DBZH.plot.pcolormesh(x='x', y='y', cmap='viridis', vmin=0)\n",
    "pl.gca().set_aspect('equal')"
   ]
  },
  {
   "cell_type": "markdown",
   "metadata": {},
   "source": [
    "### Use wradlib-Accessor to create curvelinear grid plot"
   ]
  },
  {
   "cell_type": "code",
   "execution_count": null,
   "metadata": {},
   "outputs": [],
   "source": [
    "fig = pl.figure(figsize=(10,8))\n",
    "qm = swp1.DBZH.wradlib.plot_ppi(proj='cg', fig=fig, vmin=0)\n",
    "pl.colorbar(qm)"
   ]
  },
  {
   "cell_type": "markdown",
   "metadata": {},
   "source": [
    "### Use cartopy machinery to plot on map projections"
   ]
  },
  {
   "cell_type": "code",
   "execution_count": null,
   "metadata": {},
   "outputs": [],
   "source": [
    "lat = swp1.latitude.values\n",
    "lon = swp1.longitude.values"
   ]
  },
  {
   "cell_type": "code",
   "execution_count": null,
   "metadata": {},
   "outputs": [],
   "source": [
    "import cartopy\n",
    "import cartopy.crs as ccrs\n",
    "import cartopy.feature as cfeature"
   ]
  },
  {
   "cell_type": "markdown",
   "metadata": {},
   "source": [
    "#### Just AEQD, no fancy stuff"
   ]
  },
  {
   "cell_type": "code",
   "execution_count": null,
   "metadata": {},
   "outputs": [],
   "source": [
    "map_proj = ccrs.AzimuthalEquidistant(central_latitude=lat, central_longitude=lon)\n",
    "pm = swp1.DBZH.wradlib.plot_ppi(proj=map_proj)\n",
    "ax = pl.gca()\n",
    "ax.gridlines()\n",
    "print(ax)"
   ]
  },
  {
   "cell_type": "markdown",
   "metadata": {},
   "source": [
    "#### Mercator"
   ]
  },
  {
   "cell_type": "code",
   "execution_count": null,
   "metadata": {},
   "outputs": [],
   "source": [
    "map_proj = ccrs.Mercator(central_longitude=lon)\n",
    "fig = pl.figure(figsize=(10,8))\n",
    "ax = fig.add_subplot(111, projection=map_proj)\n",
    "pm = swp1.DBZH.wradlib.plot_ppi(ax=ax)\n",
    "ax.gridlines(draw_labels=True)"
   ]
  },
  {
   "cell_type": "markdown",
   "metadata": {},
   "source": [
    "#### Mercator using cartopy features"
   ]
  },
  {
   "cell_type": "code",
   "execution_count": null,
   "metadata": {},
   "outputs": [],
   "source": [
    "import cartopy.feature as cfeature\n",
    "def plot_lines(ax):\n",
    "    coast = cfeature.NaturalEarthFeature(category='physical',\n",
    "                                           name='coastline',\n",
    "                                           scale='10m',\n",
    "                                           facecolor='none')\n",
    "    ax.add_feature(coast, edgecolor='black', lw=2, zorder=4)\n",
    "\n",
    "map_proj = ccrs.Mercator(central_longitude=lon)\n",
    "fig = pl.figure(figsize=(10,8))\n",
    "ax = fig.add_subplot(111, projection=map_proj)\n",
    "\n",
    "pm = swp1.DBZH.wradlib.plot_ppi(ax=ax)\n",
    "plot_lines(ax)\n",
    "ax.gridlines(draw_labels=True)"
   ]
  },
  {
   "cell_type": "markdown",
   "metadata": {},
   "source": [
    "## Quasi Vertical Profile (QVP)\n",
    "\n",
    "This example shows how to create a so called QVP. We need to define a function to add a height coordinate for plotting."
   ]
  },
  {
   "cell_type": "code",
   "execution_count": null,
   "metadata": {},
   "outputs": [],
   "source": [
    "print(xr.__version__)"
   ]
  },
  {
   "cell_type": "code",
   "execution_count": null,
   "metadata": {},
   "outputs": [],
   "source": [
    "def add_height(ds):\n",
    "    ds = ds.pipe(wrl.georef.georeference_dataset)\n",
    "    height = ds.z.mean('azimuth')\n",
    "    #ds = ds.assign_coords({'height': (['range'], height)})\n",
    "    ds = ds.assign_coords(height=(['range'], height))\n",
    "    return ds"
   ]
  },
  {
   "cell_type": "markdown",
   "metadata": {},
   "source": [
    "### Single Profile\n",
    "\n",
    "Here we add the height coordinate and calculate the `mean` over the azimuth using the sweep with the highest available elevation."
   ]
  },
  {
   "cell_type": "code",
   "execution_count": null,
   "metadata": {},
   "outputs": [],
   "source": [
    "swp14 = odh['sweep_14'].pipe(add_height)\n",
    "qvp = swp14.mean('azimuth')\n",
    "qvp"
   ]
  },
  {
   "cell_type": "code",
   "execution_count": null,
   "metadata": {},
   "outputs": [],
   "source": [
    "qvp.DBZH.plot(y='height')"
   ]
  },
  {
   "cell_type": "markdown",
   "metadata": {},
   "source": [
    "### TimeSeries QVP\n",
    "\n",
    "The following is preliminary code which is currently implemented in wradlib and will be available in the next version. There are some glitches which have to be fixed, yet, see below.\n",
    "\n",
    "This loads multiple volumes and combines the sweeps (here only one sweep) along a new time dimension."
   ]
  },
  {
   "cell_type": "code",
   "execution_count": null,
   "metadata": {},
   "outputs": [],
   "source": [
    "ts = {}\n",
    "ts['fh'] = []\n",
    "ts['swp'] = []\n",
    "for f in tqdm(idr71, desc='Collecting', unit=' Files'):\n",
    "    fh = wrl.io.OdimH5(f, dim0='azimuth', chunks=None)\n",
    "    ts['fh'].append(fh)\n",
    "    ds = fh['sweep_14']\n",
    "    # reassign time \n",
    "    ds = ds.rename({'time': 'rtime'})\n",
    "    #ds = ds.assign_coords({'time': (['time'], [ds['rtime'].min().values])})\n",
    "    ds = ds.assign_coords(time= (['time'], [ds['rtime'].min().values]))\n",
    "    ts['swp'].append(ds)"
   ]
  },
  {
   "cell_type": "markdown",
   "metadata": {},
   "source": [
    "#### Concat Datasets along time"
   ]
  },
  {
   "cell_type": "code",
   "execution_count": null,
   "metadata": {},
   "outputs": [],
   "source": [
    "ts['swp'] = xr.concat(ts['swp'], 'time')"
   ]
  },
  {
   "cell_type": "markdown",
   "metadata": {},
   "source": [
    "#### Fix some coordinates"
   ]
  },
  {
   "cell_type": "code",
   "execution_count": null,
   "metadata": {},
   "outputs": [],
   "source": [
    "# fix latitude, longitude\n",
    "#ts['swp'] = ts['swp'].assign_coords({'longitude': ts['swp'].longitude.min(),\n",
    "#                                     'latitude': ts['swp'].latitude.min()})\n",
    "ts['swp'] = ts['swp'].assign_coords(longitude=ts['swp'].longitude.min(),\n",
    "                                    latitude=ts['swp'].latitude.min())"
   ]
  },
  {
   "cell_type": "markdown",
   "metadata": {},
   "source": [
    "#### Georeference and add height coordinate"
   ]
  },
  {
   "cell_type": "code",
   "execution_count": null,
   "metadata": {},
   "outputs": [],
   "source": [
    "ts['swp'] = ts['swp'].pipe(wrl.georef.georeference_dataset).pipe(add_height)\n",
    "ts['swp']"
   ]
  },
  {
   "cell_type": "markdown",
   "metadata": {},
   "source": [
    "#### Calculate QVP"
   ]
  },
  {
   "cell_type": "code",
   "execution_count": null,
   "metadata": {},
   "outputs": [],
   "source": [
    "ts_qvp = ts['swp'].mean('azimuth')\n",
    "ts_qvp"
   ]
  },
  {
   "cell_type": "markdown",
   "metadata": {},
   "source": [
    "#### Plot QVP using discrete colorbar"
   ]
  },
  {
   "cell_type": "code",
   "execution_count": null,
   "metadata": {},
   "outputs": [],
   "source": [
    "fig = pl.figure(figsize=(12,8))\n",
    "levels = np.arange(-30, 80, 5)\n",
    "ts_qvp.DBZH.plot(x='time', y='height', cmap='viridis', levels=levels)\n",
    "pl.gca().set_title('Quasi Vertical Profile')"
   ]
  },
  {
   "cell_type": "markdown",
   "metadata": {},
   "source": [
    "## Simple Clutter Filter\n",
    "\n",
    "This extracts clutter information using a approach published by Gabella."
   ]
  },
  {
   "cell_type": "markdown",
   "metadata": {},
   "source": [
    "### Define function to be used with Xarray Dataset"
   ]
  },
  {
   "cell_type": "code",
   "execution_count": null,
   "metadata": {},
   "outputs": [],
   "source": [
    "def extract_clutter(ds):\n",
    "    clmap = wrl.clutter.filter_gabella(ds.DBZH.values,\n",
    "                                       wsize=5,\n",
    "                                       thrsnorain=0.,\n",
    "                                       tr1=6.,\n",
    "                                       n_p=8,\n",
    "                                       tr2=1.3, \n",
    "                                       rm_nans=False)\n",
    "    ds = ds.assign({'CMAP': (ds.DBZH.dims, clmap)})\n",
    "    return ds"
   ]
  },
  {
   "cell_type": "markdown",
   "metadata": {},
   "source": [
    "### Pipe the function, which returns a Dataset with added `CMAP` "
   ]
  },
  {
   "cell_type": "code",
   "execution_count": null,
   "metadata": {},
   "outputs": [],
   "source": [
    "swp1 = swp1.pipe(extract_clutter)\n",
    "swp1"
   ]
  },
  {
   "cell_type": "code",
   "execution_count": null,
   "metadata": {},
   "outputs": [],
   "source": [
    "fig = pl.figure(figsize=(12,8))\n",
    "swp1.DBZH.wradlib.plot(ax=121, fig=fig)\n",
    "swp1.CMAP.wradlib.plot(ax=122, fig=fig)"
   ]
  },
  {
   "cell_type": "markdown",
   "metadata": {},
   "source": [
    "## Dual-Pol retrievals\n",
    "\n",
    "This is just one example for using dual pol moments. Here we facilitate `RHOHV` and `ZDR` to calculate Depolarization Ratio."
   ]
  },
  {
   "cell_type": "markdown",
   "metadata": {},
   "source": [
    "### Depolarizaton Ratio\n",
    "\n",
    "We create the function, to be used with the Xarray Dataset, pipe it and create the diagnostic plot."
   ]
  },
  {
   "cell_type": "code",
   "execution_count": null,
   "metadata": {},
   "outputs": [],
   "source": [
    "def depol(ds):\n",
    "    dep = wrl.dp.depolarization(ds.ZDR.values,\n",
    "                                ds.RHOHV.values)\n",
    "    ds = ds.assign({'DR': (ds.DBZH.dims, dep)})\n",
    "    return ds"
   ]
  },
  {
   "cell_type": "code",
   "execution_count": null,
   "metadata": {},
   "outputs": [],
   "source": [
    "swp1 = swp1.pipe(depol)\n",
    "swp1"
   ]
  },
  {
   "cell_type": "code",
   "execution_count": null,
   "metadata": {},
   "outputs": [],
   "source": [
    "fig = pl.figure(figsize=(12,8))\n",
    "qm = swp1.ZDR.wradlib.plot(ax=131, fig=fig)\n",
    "pl.colorbar(qm, pad=0.05, shrink=0.35)\n",
    "qm = swp1.RHOHV.wradlib.plot(ax=132, fig=fig)\n",
    "pl.colorbar(qm, pad=0.05, shrink=0.35)\n",
    "qm = swp1.DR.wradlib.plot(ax=133, fig=fig)\n",
    "pl.colorbar(qm, pad=0.05, shrink=0.35)"
   ]
  },
  {
   "cell_type": "markdown",
   "metadata": {},
   "source": [
    "## Create 3D-Volume\n",
    "\n",
    "This is just one example of creating a 3D representation of the volume data."
   ]
  },
  {
   "cell_type": "markdown",
   "metadata": {},
   "source": [
    "### Iterate over the sweeps and extract coordinates and data\n",
    "\n",
    "This takes the radar location and the given projection into account. Here: using UTM65S, for Sydney radar. Change accordingly for other radar locations."
   ]
  },
  {
   "cell_type": "code",
   "execution_count": null,
   "metadata": {},
   "outputs": [],
   "source": [
    "from osgeo import osr\n",
    "proj = osr.SpatialReference()\n",
    "proj.ImportFromEPSG(32756)\n",
    "xyz, data = np.array([]).reshape((-1, 3)), np.array([])\n",
    "for swp in odh.values():\n",
    "    xyz_ = wrl.vpr.volcoords_from_polar(odh.location, swp.fixed_angle.values,\n",
    "                                        swp.azimuth.values, swp.range.values, proj=proj)\n",
    "    xyz, data = np.vstack((xyz, xyz_)), np.append(data, swp.DBZH.values.ravel())"
   ]
  },
  {
   "cell_type": "markdown",
   "metadata": {},
   "source": [
    "### Initialize Volume Parameters"
   ]
  },
  {
   "cell_type": "markdown",
   "metadata": {},
   "source": [
    "Try with the given set of parameters. If the processing time is small, then increase `maxalt` until you see the storm top. Increase horizontal and vertical resolution for more details."
   ]
  },
  {
   "cell_type": "code",
   "execution_count": null,
   "metadata": {},
   "outputs": [],
   "source": [
    "import datetime as dt\n",
    "# generate 3-D Cartesian target grid coordinates\n",
    "maxrange = 200000.\n",
    "minelev = 0.1\n",
    "maxelev = 25.\n",
    "maxalt = 5000.\n",
    "horiz_res = 2000.\n",
    "vert_res = 250.\n",
    "trgxyz, trgshape = wrl.vpr.make_3d_grid(odh.location, proj, maxrange,\n",
    "                                        maxalt, horiz_res, vert_res)\n",
    "\n",
    "# interpolate to Cartesian 3-D volume grid\n",
    "tstart = dt.datetime.now()\n",
    "gridder = wrl.vpr.CAPPI(xyz, trgxyz, trgshape, maxrange, minelev,\n",
    "                        maxelev)\n",
    "vol = np.ma.masked_invalid(gridder(data).reshape(trgshape))\n",
    "print(\"3-D interpolation took:\", dt.datetime.now() - tstart)"
   ]
  },
  {
   "cell_type": "code",
   "execution_count": null,
   "metadata": {},
   "outputs": [],
   "source": [
    "# diagnostic plot\n",
    "trgx = trgxyz[:, 0].reshape(trgshape)[0, 0, :]\n",
    "trgy = trgxyz[:, 1].reshape(trgshape)[0, :, 0]\n",
    "trgz = trgxyz[:, 2].reshape(trgshape)[:, 0, 0]\n",
    "wrl.vis.plot_max_plan_and_vert(trgx, trgy, trgz, vol, unit=\"dBZH\",\n",
    "                               levels=range(0, 100))"
   ]
  }
 ],
 "metadata": {
  "kernelspec": {
   "display_name": "Python 3",
   "language": "python",
   "name": "python3"
  },
  "language_info": {
   "codemirror_mode": {
    "name": "ipython",
    "version": 3
   },
   "file_extension": ".py",
   "mimetype": "text/x-python",
   "name": "python",
   "nbconvert_exporter": "python",
   "pygments_lexer": "ipython3",
   "version": "3.6.7"
  }
 },
 "nbformat": 4,
 "nbformat_minor": 2
}
