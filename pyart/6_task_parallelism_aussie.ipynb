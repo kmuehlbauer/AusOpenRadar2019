{
 "cells": [
  {
   "cell_type": "code",
   "execution_count": 4,
   "metadata": {},
   "outputs": [],
   "source": [
    "import nexradaws\n",
    "import tempfile\n",
    "import os\n",
    "import shutil\n",
    "import pyart\n",
    "from matplotlib import pyplot as plt\n",
    "from netCDF4 import num2date\n",
    "import numpy as np\n",
    "import cftime\n",
    "from copy import deepcopy\n",
    "\n",
    "from dask_kubernetes import KubeCluster\n",
    "from dask.distributed import Client, TimeoutError\n",
    "from dask.distributed import wait, progress\n",
    "#import six"
   ]
  },
  {
   "cell_type": "markdown",
   "metadata": {},
   "source": [
    "## An example of using Dask with Australian Weather Radar Data\n",
    "\n",
    "Note: The way Pangeo makes the Kube Cluster is it deploys the docker container you are working in to the cloud. So if you want the data available on the node you need to have the data uploaded on build.. Th"
   ]
  },
  {
   "cell_type": "code",
   "execution_count": 2,
   "metadata": {},
   "outputs": [
    {
     "name": "stdout",
     "output_type": "stream",
     "text": [
      "NOOO!\n"
     ]
    }
   ],
   "source": [
    "#As it can take some time to spin up first start the Dask cluster\n",
    "# Select 20 'workers' under 'manual scaling' menu below and click 'Scale'\n",
    "# Click on the 'Dashboard link' to monitor calculation progress\n",
    "try:\n",
    "    client = Client('tcp://localhost:33949', timeout='2s')\n",
    "    new_cluster = False\n",
    "except:\n",
    "    print('NOOO!')\n",
    "    cluster = KubeCluster(n_workers=20)\n",
    "    cluster\n",
    "    new_cluster = True"
   ]
  },
  {
   "cell_type": "code",
   "execution_count": 3,
   "metadata": {},
   "outputs": [
    {
     "data": {
      "application/vnd.jupyter.widget-view+json": {
       "model_id": "6443599b46ef4bca85bba229cdf44cf5",
       "version_major": 2,
       "version_minor": 0
      },
      "text/plain": [
       "VBox(children=(HTML(value='<h2>KubeCluster</h2>'), HBox(children=(HTML(value='\\n<div>\\n  <style scoped>\\n    .…"
      ]
     },
     "metadata": {},
     "output_type": "display_data"
    }
   ],
   "source": [
    "cluster"
   ]
  },
  {
   "cell_type": "code",
   "execution_count": 28,
   "metadata": {},
   "outputs": [],
   "source": [
    "def simple_sum(filename):\n",
    "    try: #catch two common errors\n",
    "        this_dataset = pyart.aux_io.read_odim_h5(filename)\n",
    "        my_gatefilter = pyart.filters.GateFilter(this_dataset)\n",
    "        my_gatefilter.include_all()\n",
    "        my_gatefilter.exclude_invalid('reflectivity')\n",
    "        my_gatefilter.exclude_above('differential_reflectivity', 6)\n",
    "        my_gatefilter.exclude_below('differential_reflectivity', -4)\n",
    "        my_gatefilter.exclude_below('cross_correlation_ratio', .65)\n",
    "        \n",
    "        fp = 1\n",
    "        time_start = num2date(this_dataset.time['data'][0], this_dataset.time['units'])\n",
    "        tgates = float(this_dataset.ngates*this_dataset.nrays)\n",
    "        zdat = this_dataset.fields['reflectivity']['data']\n",
    "        fp = 2\n",
    "        z0 = float(len(np.where(zdat > 0.)[0]))/tgates\n",
    "        z10 = float(len(np.where(zdat > 10.)[0]))/tgates\n",
    "        z40 = float(len(np.where(zdat > 40.)[0]))/tgates\n",
    "        \n",
    "        \n",
    "        linear_z = 10.0**(deepcopy(this_dataset.fields['reflectivity']['data'])/10.)\n",
    "        linear_z[my_gatefilter.gate_excluded] = 0.0\n",
    "        this_dataset.add_field_like('reflectivity', 'lin_reflectivity', linear_z, replace_existing=True)\n",
    "        \n",
    "        \n",
    "                \n",
    "        grids = pyart.map.grid_from_radars(this_dataset,(31,401,401),\n",
    "                                           ((0.,15000.),(-200000.,200000.),(-200000.,200000.)),\n",
    "                                           fields=['reflectivity','lin_reflectivity'] ,\n",
    "                                           refl_field='reflectivity', weighting_function='BARNES2',\n",
    "                                           gatefilter=my_gatefilter)  \n",
    "        \n",
    "        new_z = deepcopy(grids.fields['lin_reflectivity'])\n",
    "        new_z_dbz = np.log10(new_z['data'])*10.0\n",
    "        new_z['data'] = new_z_dbz\n",
    "        grids.add_field('reflectivity_lingridded', new_z, replace_existing=True)\n",
    "        \n",
    "        z_prof_mean = grids.fields['reflectivity_lingridded']['data'].mean(axis=(1,2))\n",
    "        z_prof_max = grids.fields['reflectivity_lingridded']['data'].max(axis=(1,2))\n",
    "        \n",
    "        npts_over_10 = np.array([float(len(np.where(grids.fields['reflectivity_lingridded']['data'][i, :, :] > 10.)[0]))\\\n",
    "                      for i in range(grids.fields['reflectivity_lingridded']['data'].shape[0])])\n",
    "        \n",
    "        npts_over_50 = np.array([float(len(np.where(grids.fields['reflectivity_lingridded']['data'][i, :, :] > 50.)[0]))\\\n",
    "                      for i in range(grids.fields['reflectivity_lingridded']['data'].shape[0])])\n",
    "        \n",
    "        del this_dataset, grids\n",
    "        \n",
    "        rv = (time_start, z0, z10, z40, \n",
    "              z_prof_mean, z_prof_max, \n",
    "              npts_over_10, npts_over_50)\n",
    "        \n",
    "    except (TypeError, KeyError) as e:\n",
    "        rv = 'error'\n",
    "    return rv\n"
   ]
  },
  {
   "cell_type": "code",
   "execution_count": 6,
   "metadata": {},
   "outputs": [],
   "source": [
    "indir = os.path.expanduser('~/data/aus/terryhills/')"
   ]
  },
  {
   "cell_type": "code",
   "execution_count": 7,
   "metadata": {},
   "outputs": [],
   "source": [
    "files = os.listdir(indir)"
   ]
  },
  {
   "cell_type": "code",
   "execution_count": 8,
   "metadata": {},
   "outputs": [],
   "source": [
    "files = [os.path.join(indir, thise) for thise in files]"
   ]
  },
  {
   "cell_type": "code",
   "execution_count": 30,
   "metadata": {},
   "outputs": [
    {
     "name": "stderr",
     "output_type": "stream",
     "text": [
      "/srv/conda/envs/notebook/lib/python3.7/site-packages/pyart/filters/gatefilter.py:635: RuntimeWarning: invalid value encountered in greater\n",
      "  marked = self._get_fdata(field) > value\n",
      "/srv/conda/envs/notebook/lib/python3.7/site-packages/pyart/filters/gatefilter.py:626: RuntimeWarning: invalid value encountered in less\n",
      "  marked = self._get_fdata(field) < value\n",
      "/srv/conda/envs/notebook/lib/python3.7/site-packages/ipykernel_launcher.py:16: RuntimeWarning: invalid value encountered in greater\n",
      "  app.launch_new_instance()\n",
      "/srv/conda/envs/notebook/lib/python3.7/site-packages/ipykernel_launcher.py:17: RuntimeWarning: invalid value encountered in greater\n",
      "/srv/conda/envs/notebook/lib/python3.7/site-packages/ipykernel_launcher.py:18: RuntimeWarning: invalid value encountered in greater\n",
      "/srv/conda/envs/notebook/lib/python3.7/site-packages/ipykernel_launcher.py:34: RuntimeWarning: divide by zero encountered in log10\n"
     ]
    }
   ],
   "source": [
    "time_start, z0, z10, z40, z_prof_mean, z_prof_max, npts_over_10, npts_over_50 =simple_sum(files[0])"
   ]
  },
  {
   "cell_type": "code",
   "execution_count": 31,
   "metadata": {},
   "outputs": [
    {
     "name": "stdout",
     "output_type": "stream",
     "text": [
      "2018-12-20 04:54:28   [1305. 1355. 1386. 1398. 1377. 1373. 1347. 1311. 1282. 1233. 1195. 1168.\n",
      " 1143. 1093. 1054. 1004.  951.  886.  813.  740.  679.  595.  505.  419.\n",
      "  315.  228.  148.   69.   22.    0.    0.]\n"
     ]
    }
   ],
   "source": [
    "print(time_start, \" \", npts_over_50)"
   ]
  },
  {
   "cell_type": "code",
   "execution_count": 12,
   "metadata": {},
   "outputs": [],
   "source": [
    "# Attach Dask to the cluster\n",
    "if new_cluster:\n",
    "    client = Client(cluster)"
   ]
  },
  {
   "cell_type": "code",
   "execution_count": 13,
   "metadata": {},
   "outputs": [
    {
     "data": {
      "text/html": [
       "<table style=\"border: 2px solid white;\">\n",
       "<tr>\n",
       "<td style=\"vertical-align: top; border: 0px solid white\">\n",
       "<h3 style=\"text-align: left;\">Client</h3>\n",
       "<ul style=\"text-align: left; list-style: none; margin: 0; padding: 0;\">\n",
       "  <li><b>Scheduler: </b>tcp://10.48.160.7:39671</li>\n",
       "  <li><b>Dashboard: </b><a href='/user/openradar-ausopenradar2019-jytsui9r/proxy/8787/status' target='_blank'>/user/openradar-ausopenradar2019-jytsui9r/proxy/8787/status</a>\n",
       "</ul>\n",
       "</td>\n",
       "<td style=\"vertical-align: top; border: 0px solid white\">\n",
       "<h3 style=\"text-align: left;\">Cluster</h3>\n",
       "<ul style=\"text-align: left; list-style:none; margin: 0; padding: 0;\">\n",
       "  <li><b>Workers: </b>20</li>\n",
       "  <li><b>Cores: </b>40</li>\n",
       "  <li><b>Memory: </b>140.00 GB</li>\n",
       "</ul>\n",
       "</td>\n",
       "</tr>\n",
       "</table>"
      ],
      "text/plain": [
       "<Client: scheduler='tcp://10.48.160.7:39671' processes=20 cores=40>"
      ]
     },
     "execution_count": 13,
     "metadata": {},
     "output_type": "execute_result"
    }
   ],
   "source": [
    "client"
   ]
  },
  {
   "cell_type": "code",
   "execution_count": 32,
   "metadata": {},
   "outputs": [],
   "source": [
    "future = client.map(simple_sum, files)\n"
   ]
  },
  {
   "cell_type": "code",
   "execution_count": 33,
   "metadata": {},
   "outputs": [
    {
     "data": {
      "application/vnd.jupyter.widget-view+json": {
       "model_id": "0f530fe5a86c4974af8d157e495c2b77",
       "version_major": 2,
       "version_minor": 0
      },
      "text/plain": [
       "VBox()"
      ]
     },
     "metadata": {},
     "output_type": "display_data"
    }
   ],
   "source": [
    "progress(future)"
   ]
  },
  {
   "cell_type": "code",
   "execution_count": 34,
   "metadata": {},
   "outputs": [],
   "source": [
    "my_data = client.gather(future)"
   ]
  },
  {
   "cell_type": "code",
   "execution_count": 35,
   "metadata": {},
   "outputs": [],
   "source": [
    "\n",
    "filtered_data = [value for value in my_data if type(value) != str]"
   ]
  },
  {
   "cell_type": "code",
   "execution_count": 36,
   "metadata": {},
   "outputs": [],
   "source": [
    "times = np.array([tpl[0] for tpl in filtered_data])\n",
    "z0 = np.array([tpl[1] for tpl in filtered_data])\n",
    "z10 = np.array([tpl[2] for tpl in filtered_data])\n",
    "z40 = np.array([tpl[3] for tpl in filtered_data])\n",
    "zprof = np.array([tpl[4] for tpl in filtered_data])\n",
    "zprofmax = np.array([tpl[5] for tpl in filtered_data])\n",
    "npts_10 = np.array([tpl[6] for tpl in filtered_data])\n",
    "npts_50 = np.array([tpl[7] for tpl in filtered_data])\n",
    "\n"
   ]
  },
  {
   "cell_type": "code",
   "execution_count": 37,
   "metadata": {},
   "outputs": [],
   "source": [
    "order = np.argsort(times)"
   ]
  },
  {
   "cell_type": "code",
   "execution_count": 38,
   "metadata": {},
   "outputs": [],
   "source": [
    "nptimes = times.astype('datetime64[ns]')"
   ]
  },
  {
   "cell_type": "code",
   "execution_count": 39,
   "metadata": {},
   "outputs": [
    {
     "data": {
      "text/plain": [
       "<matplotlib.legend.Legend at 0x7f391c9b69b0>"
      ]
     },
     "execution_count": 39,
     "metadata": {},
     "output_type": "execute_result"
    },
    {
     "data": {
      "image/png": "[encoded data removed]",
      "text/plain": [
       "<Figure size 720x360 with 1 Axes>"
      ]
     },
     "metadata": {
      "needs_background": "light"
     },
     "output_type": "display_data"
    }
   ],
   "source": [
    "my_fig = plt.figure(figsize=[10,5])\n",
    "plt.plot(nptimes[order], z0[order], '.k', label='0dBz')\n",
    "plt.plot(nptimes[order], z10[order], '.b', label='10dBz')\n",
    "plt.plot(nptimes[order], z40[order], '.r', label='40dBz')\n",
    "plt.ylabel('ngates')\n",
    "plt.xlabel('Time')\n",
    "plt.legend()"
   ]
  },
  {
   "cell_type": "code",
   "execution_count": 44,
   "metadata": {},
   "outputs": [],
   "source": [
    "haxis = np.linspace(0,15., 31)"
   ]
  },
  {
   "cell_type": "code",
   "execution_count": 46,
   "metadata": {},
   "outputs": [
    {
     "data": {
      "text/plain": [
       "<matplotlib.colorbar.Colorbar at 0x7f3935c00080>"
      ]
     },
     "execution_count": 46,
     "metadata": {},
     "output_type": "execute_result"
    },
    {
     "data": {
      "image/png": "[encoded data removed]",
      "text/plain": [
       "<Figure size 936x576 with 2 Axes>"
      ]
     },
     "metadata": {
      "needs_background": "light"
     },
     "output_type": "display_data"
    }
   ],
   "source": [
    "fig = plt.figure(figsize=[13,8])\n",
    "plt.pcolormesh(nptimes[order], haxis, zprof[order].transpose(),\n",
    "              cmap=pyart.graph.cm_colorblind.HomeyerRainbow)\n",
    "plt.colorbar(label='Average Ze (dBZ)')"
   ]
  },
  {
   "cell_type": "code",
   "execution_count": 47,
   "metadata": {},
   "outputs": [
    {
     "data": {
      "text/plain": [
       "<matplotlib.colorbar.Colorbar at 0x7f39346c4860>"
      ]
     },
     "execution_count": 47,
     "metadata": {},
     "output_type": "execute_result"
    },
    {
     "data": {
      "image/png": "[encoded data removed]",
      "text/plain": [
       "<Figure size 936x576 with 2 Axes>"
      ]
     },
     "metadata": {
      "needs_background": "light"
     },
     "output_type": "display_data"
    }
   ],
   "source": [
    "fig = plt.figure(figsize=[13,8])\n",
    "plt.pcolormesh(nptimes[order], haxis, zprofmax[order].transpose(), vmin=10, vmax=85,\n",
    "               cmap=pyart.graph.cm_colorblind.HomeyerRainbow)\n",
    "plt.colorbar(label='Max Ze (dBZ)')"
   ]
  },
  {
   "cell_type": "code",
   "execution_count": 50,
   "metadata": {},
   "outputs": [
    {
     "data": {
      "text/plain": [
       "<matplotlib.colorbar.Colorbar at 0x7f39348a7e48>"
      ]
     },
     "execution_count": 50,
     "metadata": {},
     "output_type": "execute_result"
    },
    {
     "data": {
      "image/png": "[encoded data removed]",
      "text/plain": [
       "<Figure size 936x576 with 2 Axes>"
      ]
     },
     "metadata": {
      "needs_background": "light"
     },
     "output_type": "display_data"
    }
   ],
   "source": [
    "fig = plt.figure(figsize=[13,8])\n",
    "plt.pcolormesh(nptimes[order], haxis, 100.0*npts_10[order].transpose()/(801**2),\n",
    "               cmap=pyart.graph.cm_colorblind.HomeyerRainbow)\n",
    "plt.colorbar(label='Percentage of points over 10dBZ')"
   ]
  },
  {
   "cell_type": "code",
   "execution_count": 51,
   "metadata": {},
   "outputs": [
    {
     "data": {
      "text/plain": [
       "<matplotlib.colorbar.Colorbar at 0x7f3934ab7898>"
      ]
     },
     "execution_count": 51,
     "metadata": {},
     "output_type": "execute_result"
    },
    {
     "data": {
      "image/png": "[encoded data removed]",
      "text/plain": [
       "<Figure size 936x576 with 2 Axes>"
      ]
     },
     "metadata": {
      "needs_background": "light"
     },
     "output_type": "display_data"
    }
   ],
   "source": [
    "fig = plt.figure(figsize=[13,8])\n",
    "plt.pcolormesh(nptimes[order], haxis, 100*npts_50[order].transpose()/(801**2),\n",
    "               cmap=pyart.graph.cm_colorblind.HomeyerRainbow)\n",
    "plt.colorbar(label='Percentage of points over 50dBZ')"
   ]
  },
  {
   "cell_type": "code",
   "execution_count": null,
   "metadata": {},
   "outputs": [],
   "source": []
  }
 ],
 "metadata": {
  "kernelspec": {
   "display_name": "Python 3",
   "language": "python",
   "name": "python3"
  },
  "language_info": {
   "codemirror_mode": {
    "name": "ipython",
    "version": 3
   },
   "file_extension": ".py",
   "mimetype": "text/x-python",
   "name": "python",
   "nbconvert_exporter": "python",
   "pygments_lexer": "ipython3",
   "version": "3.7.3"
  }
 },
 "nbformat": 4,
 "nbformat_minor": 4
}
