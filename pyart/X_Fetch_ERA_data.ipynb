{
 "cells": [
  {
   "cell_type": "code",
   "execution_count": 1,
   "metadata": {},
   "outputs": [
    {
     "name": "stdout",
     "output_type": "stream",
     "text": [
      "\n",
      "## You are using the Python ARM Radar Toolkit (Py-ART), an open source\n",
      "## library for working with weather radar data. Py-ART is partly\n",
      "## supported by the U.S. Department of Energy as part of the Atmospheric\n",
      "## Radiation Measurement (ARM) Climate Research Facility, an Office of\n",
      "## Science user facility.\n",
      "##\n",
      "## If you use this software to prepare a publication, please cite:\n",
      "##\n",
      "##     JJ Helmus and SM Collis, JORS 2016, doi: 10.5334/jors.119\n",
      "\n"
     ]
    },
    {
     "name": "stderr",
     "output_type": "stream",
     "text": [
      "/Users/scollis/anaconda3/envs/saws/lib/python3.6/site-packages/pyart/graph/cm.py:104: FutureWarning: elementwise comparison failed; returning scalar instead, but in the future will perform elementwise comparison\n",
      "  if 'red' in spec:\n",
      "/Users/scollis/anaconda3/envs/saws/lib/python3.6/site-packages/pyart/graph/cm_colorblind.py:32: FutureWarning: elementwise comparison failed; returning scalar instead, but in the future will perform elementwise comparison\n",
      "  if 'red' in spec:\n"
     ]
    }
   ],
   "source": [
    "#notebook to fetch reanalysis used in example\n",
    "import cdsapi\n",
    "import pyart\n",
    "import os\n",
    "import sys\n",
    "import netCDF4\n",
    "import xarray as xr\n",
    "from matplotlib import pyplot as plt\n",
    "%matplotlib inline"
   ]
  },
  {
   "cell_type": "code",
   "execution_count": 39,
   "metadata": {},
   "outputs": [],
   "source": [
    "#NOTE.. you need a key from ECMWF\n",
    "\n",
    "#populate ~/.cdsapirc with\n",
    "\n",
    "#url: https://cds.climate.copernicus.eu/api/v2\n",
    "#key: YOURKEYHASH\n"
   ]
  },
  {
   "cell_type": "code",
   "execution_count": 2,
   "metadata": {},
   "outputs": [],
   "source": [
    "\n",
    "def make_a_request(year, month, day, area):\n",
    "    request = {'product_type': 'reanalysis',\n",
    "               'format': 'netcdf',\n",
    "               'variable': [\n",
    "                   'divergence', 'fraction_of_cloud_cover', 'geopotential',\n",
    "                   'potential_vorticity', 'relative_humidity',\n",
    "                   'specific_cloud_ice_water_content', 'specific_cloud_liquid_water_content', 'specific_humidity',\n",
    "                   'specific_rain_water_content', 'specific_snow_water_content', 'temperature',\n",
    "                   'u_component_of_wind', 'v_component_of_wind', 'vertical_velocity',\n",
    "                   'vorticity'\n",
    "               ],\n",
    "               'pressure_level': [\n",
    "                   '1', '2', '3',\n",
    "                   '5', '7', '10',\n",
    "                   '20', '30', '50',\n",
    "                   '70', '100', '125',\n",
    "                   '150', '175', '200',\n",
    "                   '225', '250', '300',\n",
    "                   '350', '400', '450',\n",
    "                   '500', '550', '600',\n",
    "                   '650', '700', '750',\n",
    "                   '775', '800', '825',\n",
    "                   '850', '875', '900',\n",
    "                   '925', '950', '975',\n",
    "                   '1000'\n",
    "               ],\n",
    "               'year': year,\n",
    "               'month': month,\n",
    "               'day': day,\n",
    "               'area': area,#\"37.00/-94.00/24.00/-75.00\"[60, -10, 50, 2], # North, West, South, East. Default: global\n",
    "               'time': [\n",
    "                   '00:00', '01:00', '02:00',\n",
    "                   '03:00', '04:00', '05:00',\n",
    "                   '06:00', '07:00', '08:00',\n",
    "                   '09:00', '10:00', '11:00',\n",
    "                   '12:00', '13:00', '14:00',\n",
    "                   '15:00', '16:00', '17:00',\n",
    "                   '18:00', '19:00', '20:00',\n",
    "                   '21:00', '22:00', '23:00'\n",
    "               ]\n",
    "               }\n",
    "\n",
    "    return request"
   ]
  },
  {
   "cell_type": "code",
   "execution_count": 3,
   "metadata": {},
   "outputs": [],
   "source": [
    "radar = pyart.aux_io.read_odim_h5(os.path.expanduser('~/data/aus/terryhills/71_20181220_063028.pvol.h5'))"
   ]
  },
  {
   "cell_type": "code",
   "execution_count": 4,
   "metadata": {},
   "outputs": [],
   "source": [
    "radartime = netCDF4.num2date(0, radar.time['units'])"
   ]
  },
  {
   "cell_type": "code",
   "execution_count": 5,
   "metadata": {},
   "outputs": [],
   "source": [
    "lats = radar.gate_latitude\n",
    "lons = radar.gate_longitude\n",
    "\n",
    "min_lon = lons['data'].min()\n",
    "min_lat = lats['data'].min()\n",
    "max_lat = lats['data'].max()\n",
    "max_lon = lons['data'].max()\n"
   ]
  },
  {
   "cell_type": "code",
   "execution_count": 7,
   "metadata": {},
   "outputs": [
    {
     "data": {
      "text/plain": [
       "2018"
      ]
     },
     "execution_count": 7,
     "metadata": {},
     "output_type": "execute_result"
    }
   ],
   "source": [
    "radartime.year"
   ]
  },
  {
   "cell_type": "code",
   "execution_count": 8,
   "metadata": {},
   "outputs": [
    {
     "name": "stderr",
     "output_type": "stream",
     "text": [
      "2019-11-10 07:56:21,799 INFO Sending request to https://cds.climate.copernicus.eu/api/v2/resources/reanalysis-era5-pressure-levels\n",
      "2019-11-10 07:56:23,226 INFO Request is queued\n",
      "2019-11-10 07:56:24,544 INFO Request is running\n",
      "2019-11-10 08:04:48,107 INFO Request is completed\n",
      "2019-11-10 08:04:48,108 INFO Downloading http://136.156.132.198/cache-compute-0003/cache/data5/adaptor.mars.internal-1573332984.1122727-24849-18-aafdcb8e-3a93-46f1-ba75-73421b2f63f5.nc to /Users/scollis/data/era5_data_aus.nc (13.9M)\n",
      "2019-11-10 08:05:00,616 INFO Download rate 1.1M/s   \n"
     ]
    },
    {
     "data": {
      "text/plain": [
       "Result(content_length=14551032,content_type=application/x-netcdf,location=http://136.156.132.198/cache-compute-0003/cache/data5/adaptor.mars.internal-1573332984.1122727-24849-18-aafdcb8e-3a93-46f1-ba75-73421b2f63f5.nc)"
      ]
     },
     "execution_count": 8,
     "metadata": {},
     "output_type": "execute_result"
    }
   ],
   "source": [
    "c = cdsapi.Client()\n",
    "myreq = make_a_request(radartime.year, radartime.month, radartime.day, [max_lat, min_lon, min_lat, max_lon])\n",
    "c.retrieve(\"reanalysis-era5-pressure-levels\",\n",
    "                   myreq, os.path.expanduser('~/data/era5_data_aus.nc'))"
   ]
  },
  {
   "cell_type": "code",
   "execution_count": 9,
   "metadata": {},
   "outputs": [],
   "source": [
    "dset = xr.load_dataset(os.path.expanduser('~/data/era5_data_aus.nc'))"
   ]
  },
  {
   "cell_type": "code",
   "execution_count": 10,
   "metadata": {},
   "outputs": [
    {
     "data": {
      "text/plain": [
       "<xarray.Dataset>\n",
       "Dimensions:    (latitude: 21, level: 37, longitude: 26, time: 24)\n",
       "Coordinates:\n",
       "  * longitude  (longitude) float32 148.0 148.25 148.5 ... 153.75 154.0 154.25\n",
       "  * latitude   (latitude) float32 -31.25 -31.5 -31.75 ... -35.75 -36.0 -36.25\n",
       "  * level      (level) int32 1 2 3 5 7 10 20 30 ... 850 875 900 925 950 975 1000\n",
       "  * time       (time) datetime64[ns] 2018-12-20 ... 2018-12-20T23:00:00\n",
       "Data variables:\n",
       "    d          (time, level, latitude, longitude) float32 1.9410436e-06 ... 2.5052688e-05\n",
       "    cc         (time, level, latitude, longitude) float32 0.0 0.0 ... 0.0 0.0\n",
       "    z          (time, level, latitude, longitude) float32 471060.75 ... 529.03125\n",
       "    pv         (time, level, latitude, longitude) float32 -0.0026819333 ... 1.527369e-07\n",
       "    r          (time, level, latitude, longitude) float32 -9.918213e-05 ... 84.298164\n",
       "    ciwc       (time, level, latitude, longitude) float32 5.820766e-11 ... 5.820766e-11\n",
       "    clwc       (time, level, latitude, longitude) float32 0.0 0.0 ... 0.0 0.0\n",
       "    q          (time, level, latitude, longitude) float32 3.9339066e-06 ... 0.011754692\n",
       "    crwc       (time, level, latitude, longitude) float32 0.0 ... 1.2200326e-07\n",
       "    cswc       (time, level, latitude, longitude) float32 0.0 0.0 ... 0.0 0.0\n",
       "    t          (time, level, latitude, longitude) float32 264.60767 ... 292.41647\n",
       "    u          (time, level, latitude, longitude) float32 -56.77126 ... -3.0440488\n",
       "    v          (time, level, latitude, longitude) float32 -6.3205137 ... 9.730418\n",
       "    w          (time, level, latitude, longitude) float32 8.4757805e-05 ... 0.017579675\n",
       "    vo         (time, level, latitude, longitude) float32 2.045742e-05 ... -3.337677e-05\n",
       "Attributes:\n",
       "    Conventions:  CF-1.6\n",
       "    history:      2019-11-09 21:03:57 GMT by grib_to_netcdf-2.14.0: /opt/ecmw..."
      ]
     },
     "execution_count": 10,
     "metadata": {},
     "output_type": "execute_result"
    }
   ],
   "source": [
    "dset"
   ]
  },
  {
   "cell_type": "code",
   "execution_count": 11,
   "metadata": {},
   "outputs": [
    {
     "data": {
      "text/plain": [
       "<matplotlib.collections.QuadMesh at 0x11dcf4ac8>"
      ]
     },
     "execution_count": 11,
     "metadata": {},
     "output_type": "execute_result"
    },
    {
     "data": {
      "image/png": "[encoded data removed]",
      "text/plain": [
       "<Figure size 432x288 with 2 Axes>"
      ]
     },
     "metadata": {
      "needs_background": "light"
     },
     "output_type": "display_data"
    }
   ],
   "source": [
    "dset.t[0].sel(level=1000, method='nearest').plot.pcolormesh()"
   ]
  },
  {
   "cell_type": "code",
   "execution_count": 12,
   "metadata": {},
   "outputs": [],
   "source": [
    "cprof = dset.sel(longitude=28.5, latitude=-26.0, method='nearest')"
   ]
  },
  {
   "cell_type": "code",
   "execution_count": 13,
   "metadata": {},
   "outputs": [
    {
     "data": {
      "text/plain": [
       "[<matplotlib.lines.Line2D at 0x12b499f28>]"
      ]
     },
     "execution_count": 13,
     "metadata": {},
     "output_type": "execute_result"
    },
    {
     "data": {
      "image/png": "[encoded data removed]",
      "text/plain": [
       "<Figure size 432x288 with 1 Axes>"
      ]
     },
     "metadata": {
      "needs_background": "light"
     },
     "output_type": "display_data"
    }
   ],
   "source": [
    "plt.plot( cprof.t[0], cprof.z[0]/(9.8*1000.0))"
   ]
  },
  {
   "cell_type": "code",
   "execution_count": 14,
   "metadata": {},
   "outputs": [
    {
     "data": {
      "text/plain": [
       "[<matplotlib.lines.Line2D at 0x12d3dff60>]"
      ]
     },
     "execution_count": 14,
     "metadata": {},
     "output_type": "execute_result"
    },
    {
     "data": {
      "image/png": "[encoded data removed]",
      "text/plain": [
       "<Figure size 432x288 with 1 Axes>"
      ]
     },
     "metadata": {
      "needs_background": "light"
     },
     "output_type": "display_data"
    }
   ],
   "source": [
    "plt.plot( cprof.u[0], cprof.z[0]/(9.8*1000.0))\n",
    "plt.plot( cprof.v[0], cprof.z[0]/(9.8*1000.0))\n"
   ]
  },
  {
   "cell_type": "code",
   "execution_count": null,
   "metadata": {},
   "outputs": [],
   "source": []
  }
 ],
 "metadata": {
  "kernelspec": {
   "display_name": "Python 3",
   "language": "python",
   "name": "python3"
  },
  "language_info": {
   "codemirror_mode": {
    "name": "ipython",
    "version": 3
   },
   "file_extension": ".py",
   "mimetype": "text/x-python",
   "name": "python",
   "nbconvert_exporter": "python",
   "pygments_lexer": "ipython3",
   "version": "3.6.7"
  }
 },
 "nbformat": 4,
 "nbformat_minor": 2
}
