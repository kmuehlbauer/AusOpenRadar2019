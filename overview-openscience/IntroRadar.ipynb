{
 "cells": [
  {
   "cell_type": "markdown",
   "metadata": {
    "slideshow": {
     "slide_type": "slide"
    }
   },
   "source": [
    "## Radar 101"
   ]
  },
  {
   "cell_type": "markdown",
   "metadata": {},
   "source": [
    "Weather Radars transmit a pulse of radiaton (Usually in the range of 3-10cm, X-S band although cloud radars will use sub cm wavelengths...). This radiation interacts with matter, polarizing it and the subsequent delayed response in the medium results in a scattered wave. "
   ]
  },
  {
   "cell_type": "markdown",
   "metadata": {},
   "source": [
    "![](kumjian.png)\n",
    "\n",
    "From Kumjian et al"
   ]
  },
  {
   "cell_type": "markdown",
   "metadata": {},
   "source": [
    "A transmitter, such as a magnetron creates a pulse of radiation and a reciever sits and waits and collects returned power in various timed gates. Using the speed of light each gate corresponds to a different range from the radar. \n",
    "![](csapr.png)\n",
    "\n",
    "DOE C-Band radar undergoing testing"
   ]
  },
  {
   "cell_type": "markdown",
   "metadata": {},
   "source": [
    "Data from a radar is, therefore, essentially a time-range array. Scanning radars are steered to image a volume of the atmopshere. \n",
    "![](vcp.png)\n",
    "\n",
    "Therefore each ray is tagged with information about antenna pointing: elevation and azimuth. So data in all of the packages you will learn about today is stored as arrays with if"
   ]
  }
 ],
 "metadata": {
  "kernelspec": {
   "display_name": "Python 3",
   "language": "python",
   "name": "python3"
  },
  "language_info": {
   "codemirror_mode": {
    "name": "ipython",
    "version": 3
   },
   "file_extension": ".py",
   "mimetype": "text/x-python",
   "name": "python",
   "nbconvert_exporter": "python",
   "pygments_lexer": "ipython3",
   "version": "3.7.3"
  }
 },
 "nbformat": 4,
 "nbformat_minor": 4
}
